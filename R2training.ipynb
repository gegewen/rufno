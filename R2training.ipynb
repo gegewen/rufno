{
 "cells": [
  {
   "cell_type": "code",
   "execution_count": 1,
   "id": "713a4e0a",
   "metadata": {},
   "outputs": [],
   "source": [
    "import torch\n",
    "import numpy as np\n",
    "import torch.nn as nn\n",
    "import torch.nn.functional as F\n",
    "\n",
    "import matplotlib.pyplot as plt\n",
    "from FNORUNet_5layer_model import *\n",
    "\n",
    "import operator\n",
    "from functools import reduce\n",
    "from functools import partial\n",
    "\n",
    "from timeit import default_timer\n",
    "import scipy.io\n",
    "import math\n",
    "import gc\n",
    "import glob"
   ]
  },
  {
   "cell_type": "code",
   "execution_count": 2,
   "id": "3b84d556",
   "metadata": {},
   "outputs": [],
   "source": [
    "with open('_paper_testR2duringtraining_SG.npy', 'rb') as f:\n",
    "    epochs_SG = np.load(f)\n",
    "    R2_mean_SG = np.load(f)\n",
    "    R2_std_SG = np.load(f)\n",
    "#     R2plume_mean_SG = np.load(f)\n",
    "#     R2plume_std_SG = np.load(f)\n",
    "#     delta_t_SG = np.load(f)"
   ]
  },
  {
   "cell_type": "code",
   "execution_count": 3,
   "id": "645bc8e6",
   "metadata": {},
   "outputs": [],
   "source": [
    "with open('_paper_testR2duringtraining_dP.npy', 'rb') as f:\n",
    "    epochs_dP = np.load(f)\n",
    "    R2_mean_dP = np.load(f)\n",
    "    R2_std_dP = np.load(f)\n",
    "#     R2plume_mean_dP = np.load(f)\n",
    "#     R2plume_std_dP = np.load(f)\n",
    "#     delta_t_dP = np.load(f)"
   ]
  },
  {
   "cell_type": "code",
   "execution_count": 4,
   "id": "5a953f07",
   "metadata": {},
   "outputs": [],
   "source": [
    "startidx=2"
   ]
  },
  {
   "cell_type": "code",
   "execution_count": 12,
   "id": "b780d452",
   "metadata": {},
   "outputs": [
    {
     "data": {
      "image/png": "[encoded data removed]",
      "text/plain": [
       "<Figure size 648x216 with 2 Axes>"
      ]
     },
     "metadata": {
      "needs_background": "light"
     },
     "output_type": "display_data"
    }
   ],
   "source": [
    "fig = plt.figure(figsize=(9, 3))\n",
    "\n",
    "plt.subplot(1, 2, 1)\n",
    "p11 = plt.errorbar(epochs_SG[startidx:], R2_mean_SG[startidx:], R2_std_SG[startidx:], ls='', marker=\"o\", markersize=0, color='b')\n",
    "p10 = plt.scatter(epochs_SG[startidx:], R2_mean_SG[startidx:], marker=\"o\", s=40, color='b')\n",
    "\n",
    "plt.xlabel(\"Training Epoch\", size=14)\n",
    "plt.ylabel(\"R$^2$ on Validation Data\", size=14)\n",
    "plt.legend([p10, p11], [\"R$^2$ mean\", \"R$^2$ std\"], loc='lower right')\n",
    "plt.title(\"$SG$ Model\", size=18)\n",
    "plt.ylim(0.85, 1.00)\n",
    "# plt.yticks([0.80, 0.85, 0.90, 0.95, 1.00], [\"0.80\", \"0.85\", \"0.90\", \"0.95\", \"1.00\"])\n",
    "plt.tight_layout()\n",
    "\n",
    "plt.subplot(1, 2, 2)\n",
    "p11 = plt.errorbar(epochs_dP[startidx:], R2_mean_dP[startidx:], R2_std_dP[startidx:], ls='', marker=\"o\", markersize=0, color='b')\n",
    "p10 = plt.scatter(epochs_dP[startidx:], R2_mean_dP[startidx:], marker=\"o\", s=40, color='b')\n",
    "# p21 = plt.errorbar(epochs[startidx:], R2plume_mean[startidx:], R2plume_std[startidx:], ls='', marker=\"s\", markersize=0, color='g')\n",
    "# p20 = plt.scatter(epochs[startidx:], R2plume_mean[startidx:], marker=\"s\", s=40, color='g')\n",
    "\n",
    "plt.xlabel(\"Training Epoch\", size=14)\n",
    "# plt.legend([p10, p11, p20, p21], [\"R$^2$ Field (mean)\", \"R$^2$ Field (std)\", \"R$^2$ Plume (mean)\", \"R$^2$ Plume (std)\"], loc='lower right')\n",
    "plt.legend([p10, p11], [\"R$^2$ mean\", \"R$^2$ std\"], loc='lower right')\n",
    "plt.title(\"$dP$ Model\", size=18)\n",
    "plt.ylim(0.85, 1.00)\n",
    "plt.yticks([])\n",
    "plt.tight_layout()\n",
    "\n",
    "# plt.savefig(\"_paper_testR2duringtraining_final_v2.png\", dpi=300)\n",
    "plt.show()"
   ]
  }
 ],
 "metadata": {
  "kernelspec": {
   "display_name": "Python 3 (ipykernel)",
   "language": "python",
   "name": "python3"
  },
  "language_info": {
   "codemirror_mode": {
    "name": "ipython",
    "version": 3
   },
   "file_extension": ".py",
   "mimetype": "text/x-python",
   "name": "python",
   "nbconvert_exporter": "python",
   "pygments_lexer": "ipython3",
   "version": "3.9.0"
  }
 },
 "nbformat": 4,
 "nbformat_minor": 5
}
