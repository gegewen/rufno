{
 "cells": [
  {
   "cell_type": "markdown",
   "metadata": {},
   "source": [
    "# Load modules"
   ]
  },
  {
   "cell_type": "code",
   "execution_count": 1,
   "metadata": {},
   "outputs": [],
   "source": [
    "import torch\n",
    "import numpy as np\n",
    "import torch.nn as nn\n",
    "import torch.nn.functional as F\n",
    "\n",
    "import matplotlib.pyplot as plt\n",
    "\n",
    "import operator\n",
    "from functools import reduce\n",
    "from functools import partial\n",
    "\n",
    "from timeit import default_timer\n",
    "import scipy.io\n",
    "import math\n",
    "import gc\n",
    "import glob\n",
    "\n",
    "import h5py\n",
    "\n",
    "from scipy.optimize import curve_fit\n",
    "import numpy as np\n",
    "import matplotlib.pyplot as plt\n",
    "import matplotlib.cm\n",
    "from scipy import stats"
   ]
  },
  {
   "cell_type": "markdown",
   "metadata": {},
   "source": [
    "# Load data (will take a while) and process"
   ]
  },
  {
   "cell_type": "code",
   "execution_count": 2,
   "metadata": {},
   "outputs": [
    {
     "name": "stdout",
     "output_type": "stream",
     "text": [
      "Checkpoint 1\n"
     ]
    }
   ],
   "source": [
    "hf_r = h5py.File(f'/oak/stanford/schools/ees/smbenson/andchu/shale_clean.hdf5', 'r')\n",
    "data_x_shale = np.array(hf_r.get('x'))\n",
    "data_SG_shale = np.array(hf_r.get('SG'))\n",
    "data_P_shale = np.array(hf_r.get('P'))\n",
    "data_P_init_shale = np.array(hf_r.get('P_init'))\n",
    "hf_r.close()\n",
    "print('Checkpoint 1')"
   ]
  },
  {
   "cell_type": "code",
   "execution_count": 3,
   "metadata": {},
   "outputs": [
    {
     "name": "stdout",
     "output_type": "stream",
     "text": [
      "0.019367479650039064\n",
      "0.10341674964334545\n",
      "Checkpoint 2\n",
      "Checkpoint 3\n",
      "Checkpoint 4\n",
      "Checkpoint 5\n",
      "Checkpoint 6\n"
     ]
    }
   ],
   "source": [
    "# GAS SATURATION DATA -------------------------------------------------\n",
    "# Z SCORE NORMALIZATION\n",
    "SG_mean = np.mean(data_SG_shale)\n",
    "SG_std = np.std(data_SG_shale)\n",
    "print(SG_mean)\n",
    "print(SG_std)\n",
    "    \n",
    "data_SG_shale = (data_SG_shale - SG_mean)/(SG_std)\n",
    "\n",
    "data_x = np.concatenate([data_x_shale], axis=0)\n",
    "data_sg = np.concatenate([data_SG_shale], axis=0)\n",
    "\n",
    "data_nr = data_x.shape[0]\n",
    "test_nr = 500\n",
    "train_nr = data_nr - test_nr\n",
    "\n",
    "np.random.seed(0)\n",
    "shuffle_index = np.random.choice(data_nr, data_nr, replace=False)\n",
    "\n",
    "data_x = data_x[shuffle_index, ...]\n",
    "data_sg = data_sg[shuffle_index, ...]\n",
    "\n",
    "print('Checkpoint 2')\n",
    "\n",
    "idx = [0,6,12,18,19,20,21,22,23]\n",
    "data_x_fit = np.zeros((data_x.shape[0], len(idx)+3, 96, 200))\n",
    "for j, index in enumerate(idx):\n",
    "    data_x_fit[:,j,:,:] = data_x[:,index,:,:]\n",
    "    \n",
    "print('Checkpoint 3')\n",
    "    \n",
    "dz = 2.083330\n",
    "dx = [0.1]\n",
    "\n",
    "with open('DRV.txt') as f:\n",
    "    for line in f:\n",
    "        line = line.strip().split('*')\n",
    "        dx.append(float(line[-1]))\n",
    "dx = np.cumsum(dx)\n",
    "grid_x = dx/np.max(dx)\n",
    "grid_x = grid_x[1:]\n",
    "grid_y = np.linspace(0, 200, 96)/np.max(dx)\n",
    "\n",
    "data_x_fit[:,-3,:,:] = grid_x[np.newaxis, np.newaxis, :]\n",
    "data_x_fit[:,-2,:,:] = grid_y[np.newaxis, :, np.newaxis]\n",
    "data_x_fit[:,-1,:,:] = np.ones(data_x_fit[:,-1,:,:].shape)\n",
    "\n",
    "data_x_fit[:,-3,:,:] = data_x_fit[:,-3,:,:]/np.max(data_x_fit[:,-3,:,:])\n",
    "data_x_fit[:,-2,:,:] = data_x_fit[:,-2,:,:]/np.max(data_x_fit[:,-2,:,:])\n",
    "\n",
    "x_in = data_x_fit.transpose((0,2,3,1))\n",
    "SG = data_sg.transpose((0,2,3,1))\n",
    "\n",
    "x_in = x_in.astype(np.float32)\n",
    "SG = SG.astype(np.float32)\n",
    "\n",
    "x_in = torch.from_numpy(x_in)\n",
    "SG = torch.from_numpy(SG)\n",
    "\n",
    "print('Checkpoint 4')\n",
    "\n",
    "# a input u output\n",
    "train_a = x_in[:train_nr,:,:,:]\n",
    "train_u = SG[:train_nr,:,:,:]\n",
    "\n",
    "test_a = x_in[train_nr:train_nr+ test_nr,:,:,:]\n",
    "test_u = SG[train_nr:train_nr+ test_nr,:,:,:]\n",
    "\n",
    "T = 24\n",
    "\n",
    "train_a = train_a[:,:,:,np.newaxis,:]\n",
    "test_a = test_a[:,:,:,np.newaxis,:]\n",
    "\n",
    "train_a = train_a.repeat([1,1,1,T,1])\n",
    "test_a = test_a.repeat([1,1,1,T,1])\n",
    "\n",
    "print('Checkpoint 5')\n",
    "\n",
    "t = np.cumsum(np.power(1.421245, range(24)))\n",
    "t /= np.max(t)\n",
    "for i in range(24):\n",
    "    train_a[:,:,:,i,-1] = t[i]\n",
    "    test_a[:,:,:,i,-1] = t[i]\n",
    "    \n",
    "train_a_SG = train_a\n",
    "test_a_SG = test_a\n",
    "train_u_SG = train_u\n",
    "test_u_SG = test_u\n",
    "    \n",
    "print('Checkpoint 6')"
   ]
  },
  {
   "cell_type": "code",
   "execution_count": 4,
   "metadata": {},
   "outputs": [
    {
     "name": "stdout",
     "output_type": "stream",
     "text": [
      "1.1323901246254815\n",
      "9.17773280445466\n",
      "Checkpoint 2\n",
      "Checkpoint 3\n",
      "Checkpoint 4\n",
      "Checkpoint 5\n",
      "Checkpoint 6\n"
     ]
    }
   ],
   "source": [
    "# PRESSURE BUILDUP ---------------------------------------------------\n",
    "data_dP_shale = data_P_shale - data_P_init_shale\n",
    "\n",
    "# Z-Score Normalization\n",
    "dP_mean = np.mean(data_dP_shale)\n",
    "dP_std = np.std(data_dP_shale)\n",
    "print(dP_mean)\n",
    "print(dP_std)\n",
    "\n",
    "data_dP_shale = (data_dP_shale - dP_mean)/(dP_std)\n",
    "\n",
    "data_x = np.concatenate([data_x_shale], axis=0)\n",
    "data_dP = np.concatenate([data_dP_shale], axis=0)\n",
    "\n",
    "data_nr = data_x.shape[0]\n",
    "test_nr = 500\n",
    "train_nr = data_nr - test_nr\n",
    "\n",
    "np.random.seed(0)\n",
    "shuffle_index = np.random.choice(data_nr, data_nr, replace=False)\n",
    "\n",
    "data_x = data_x[shuffle_index, ...]\n",
    "data_dP = data_dP[shuffle_index, ...]\n",
    "\n",
    "print('Checkpoint 2')\n",
    "\n",
    "idx = [0,6,12,18,19,20,21,22,23]\n",
    "data_x_fit = np.zeros((data_x.shape[0], len(idx)+3, 96, 200))\n",
    "for j, index in enumerate(idx):\n",
    "    data_x_fit[:,j,:,:] = data_x[:,index,:,:]\n",
    "\n",
    "print('Checkpoint 3')\n",
    "    \n",
    "dz = 2.083330\n",
    "dx = [0.1]\n",
    "\n",
    "with open('DRV.txt') as f:\n",
    "    for line in f:\n",
    "        line = line.strip().split('*')\n",
    "        dx.append(float(line[-1]))\n",
    "dx = np.cumsum(dx)\n",
    "grid_x = dx/np.max(dx)\n",
    "grid_x = grid_x[1:]\n",
    "grid_y = np.linspace(0, 200, 96)/np.max(dx)\n",
    "\n",
    "data_x_fit[:,-3,:,:] = grid_x[np.newaxis, np.newaxis, :]\n",
    "data_x_fit[:,-2,:,:] = grid_y[np.newaxis, :, np.newaxis]\n",
    "data_x_fit[:,-1,:,:] = np.ones(data_x_fit[:,-1,:,:].shape)\n",
    "\n",
    "data_x_fit[:,-3,:,:] = data_x_fit[:,-3,:,:]/np.max(data_x_fit[:,-3,:,:])\n",
    "data_x_fit[:,-2,:,:] = data_x_fit[:,-2,:,:]/np.max(data_x_fit[:,-2,:,:])\n",
    "\n",
    "x_in = data_x_fit.transpose((0,2,3,1))\n",
    "dP = data_dP.transpose((0,2,3,1))\n",
    "\n",
    "x_in = x_in.astype(np.float32)\n",
    "dP = dP.astype(np.float32)\n",
    "\n",
    "x_in = torch.from_numpy(x_in)\n",
    "dP = torch.from_numpy(dP)\n",
    "\n",
    "print('Checkpoint 4')\n",
    "\n",
    "# [3616, 96, 200, 12] = [num reservoirs, vertical length, lateral length, 12 parameters]\n",
    "# [3616, 96, 200, 12] = [..., ..., ..., 24 time steps for prediction]\n",
    "\n",
    "# a input u output\n",
    "train_a = x_in[:train_nr,:,:,:]\n",
    "train_u = dP[:train_nr,:,:,:]\n",
    "\n",
    "test_a = x_in[train_nr:train_nr+ test_nr,:,:,:]\n",
    "test_u = dP[train_nr:train_nr+ test_nr,:,:,:]\n",
    "\n",
    "T = 24\n",
    "\n",
    "train_a = train_a[:,:,:,np.newaxis,:]\n",
    "test_a = test_a[:,:,:,np.newaxis,:]\n",
    "\n",
    "train_a = train_a.repeat([1,1,1,T,1])\n",
    "test_a = test_a.repeat([1,1,1,T,1])\n",
    "\n",
    "print('Checkpoint 5')\n",
    "\n",
    "t = np.cumsum(np.power(1.421245, range(24)))\n",
    "t /= np.max(t)\n",
    "for i in range(24):\n",
    "    train_a[:,:,:,i,-1] = t[i]\n",
    "    test_a[:,:,:,i,-1] = t[i]\n",
    "    \n",
    "train_a_dP = train_a\n",
    "test_a_dP = test_a\n",
    "train_u_dP = train_u\n",
    "test_u_dP = test_u\n",
    "\n",
    "print('Checkpoint 6')"
   ]
  },
  {
   "cell_type": "markdown",
   "metadata": {},
   "source": [
    "# Initialize some things and helper functions"
   ]
  },
  {
   "cell_type": "code",
   "execution_count": 5,
   "metadata": {},
   "outputs": [],
   "source": [
    "def R2(x,y):\n",
    "    correlation_matrix = np.corrcoef(x.flatten(), y.flatten())\n",
    "    correlation_xy = correlation_matrix[0,1]\n",
    "    return correlation_xy**2\n",
    "\n",
    "def MPE(true, pred):\n",
    "    mask = np.logical_or(true!=0, np.abs(pred)>0.01)\n",
    "    return np.mean(np.abs(pred[mask]-true[mask]))\n",
    "\n",
    "def MRE(true, pred):\n",
    "    return np.mean(np.abs(pred-true)/np.max(true, axis=(0, 1, 2))[None, None, None, :])"
   ]
  },
  {
   "cell_type": "code",
   "execution_count": 6,
   "metadata": {},
   "outputs": [],
   "source": [
    "gpu_or_cpu = 'gpu'\n",
    "normMethod = \"zscore\"\n",
    "\n",
    "# Set torch device\n",
    "device = torch.device('cuda:0')"
   ]
  },
  {
   "cell_type": "markdown",
   "metadata": {},
   "source": [
    "# SG Final Model ==============================================="
   ]
  },
  {
   "cell_type": "code",
   "execution_count": 7,
   "metadata": {},
   "outputs": [
    {
     "name": "stdout",
     "output_type": "stream",
     "text": [
      "41 seconds to predict 500 samples from the test data set for SG model\n",
      "Mean MPE:  0.022041038\n",
      "Std MPE:  0.009926171\n",
      "Mean R^2:  0.9891772485021221\n",
      "Std R^2:  0.011236479730175207\n"
     ]
    }
   ],
   "source": [
    "# TEST DATA\n",
    "eval_loader = torch.utils.data.DataLoader(torch.utils.data.TensorDataset(test_a_SG, test_u_SG), batch_size=1, shuffle=False)\n",
    "\n",
    "from FNORUNet_5layer_model import *\n",
    "model1 = torch.load('/scratch/users/andchu/FNOUNet/saved_models/SG3d_FNORUNet_199ep_32width_12m1_12m2_12m3_3000train_200eps_l2err_0.0005lr_1zerr_zscorenorm_andrew_FNORUNet4_5layer', map_location=torch.device('cuda:0'))\n",
    "\n",
    "mpe_arr_sgtest = []\n",
    "r2_arr_sgtest = []\n",
    "\n",
    "t1 = default_timer()\n",
    "with torch.no_grad():\n",
    "    for x, y in eval_loader:\n",
    "        x, y = x.to(device), y.to(device)\n",
    "        pred = model1(x).view(-1,96,200,24)\n",
    "        \n",
    "        x_plot = x.cpu().detach().numpy()\n",
    "        y_plot = y.cpu().detach().numpy() * SG_std + SG_mean\n",
    "        pred_plot = pred.cpu().detach().numpy() * SG_std + SG_mean\n",
    "     \n",
    "        mpe_arr_sgtest.append(MPE(y_plot, pred_plot))\n",
    "        r2_arr_sgtest.append(R2(y_plot, pred_plot))\n",
    "\n",
    "t2 = default_timer()\n",
    "print(round(t2 - t1), \"seconds to predict 500 samples from the test data set for SG model\")\n",
    "\n",
    "print(\"Mean MPE: \", np.mean(mpe_arr_sgtest))\n",
    "print(\"Std MPE: \", np.std(mpe_arr_sgtest))\n",
    "print(\"Mean R^2: \", np.mean(r2_arr_sgtest))\n",
    "print(\"Std R^2: \", np.std(r2_arr_sgtest))"
   ]
  },
  {
   "cell_type": "code",
   "execution_count": 8,
   "metadata": {},
   "outputs": [
    {
     "data": {
      "image/png": "[encoded data removed]",
      "text/plain": [
       "<Figure size 432x288 with 1 Axes>"
      ]
     },
     "metadata": {
      "needs_background": "light"
     },
     "output_type": "display_data"
    }
   ],
   "source": [
    "plt.hist(r2_arr_sgtest, bins=100)\n",
    "plt.xlim([0.92, 1])\n",
    "plt.xlabel('R$^2$ on Validation Data')\n",
    "plt.ylabel('Number of Occurrences')\n",
    "plt.show()"
   ]
  },
  {
   "cell_type": "code",
   "execution_count": 10,
   "metadata": {},
   "outputs": [
    {
     "data": {
      "text/plain": [
       "500"
      ]
     },
     "execution_count": 10,
     "metadata": {},
     "output_type": "execute_result"
    }
   ],
   "source": [
    "len(r2_arr_sgtest)"
   ]
  },
  {
   "cell_type": "code",
   "execution_count": 84,
   "metadata": {},
   "outputs": [
    {
     "name": "stdout",
     "output_type": "stream",
     "text": [
      "49 seconds to predict 500 samples from the training data set for SG model\n",
      "Mean MPE:  0.013798997\n",
      "Std MPE:  0.0047544595\n",
      "Mean R^2:  0.9971252237191599\n",
      "Std R^2:  0.0030146517396648182\n"
     ]
    }
   ],
   "source": [
    "# TRAIN DATA\n",
    "np.random.seed(0)\n",
    "shuffle_index = np.random.choice(train_a_SG.size()[0], 600, replace=False)\n",
    "\n",
    "eval_loader = torch.utils.data.DataLoader(torch.utils.data.TensorDataset(train_a_SG[shuffle_index, ...], train_u_SG[shuffle_index, ...]), batch_size=1, shuffle=False)\n",
    "\n",
    "from FNORUNet_5layer_model import *\n",
    "model1 = torch.load('/scratch/users/andchu/FNOUNet/saved_models/SG3d_FNORUNet_199ep_32width_12m1_12m2_12m3_3000train_200eps_l2err_0.0005lr_1zerr_zscorenorm_andrew_FNORUNet4_5layer', map_location=torch.device('cuda:0'))\n",
    "\n",
    "mpe_arr_sgtrain = []\n",
    "r2_arr_sgtrain = []\n",
    "\n",
    "t1 = default_timer()\n",
    "with torch.no_grad():\n",
    "    for x, y in eval_loader:\n",
    "        x, y = x.to(device), y.to(device)\n",
    "        pred = model1(x).view(-1,96,200,24)\n",
    "        \n",
    "        x_plot = x.cpu().detach().numpy()\n",
    "        y_plot = y.cpu().detach().numpy() * SG_std + SG_mean\n",
    "        pred_plot = pred.cpu().detach().numpy() * SG_std + SG_mean\n",
    "        \n",
    "        mpe_arr_sgtrain.append(MPE(y_plot, pred_plot))\n",
    "        r2_arr_sgtrain.append(R2(y_plot, pred_plot))\n",
    "        \n",
    "t2 = default_timer()\n",
    "print(round(t2 - t1), \"seconds to predict 500 samples from the training data set for SG model\")\n",
    "\n",
    "print(\"Mean MPE: \", np.mean(mpe_arr_sgtrain))\n",
    "print(\"Std MPE: \", np.std(mpe_arr_sgtrain))\n",
    "print(\"Mean R^2: \", np.mean(r2_arr_sgtrain))\n",
    "print(\"Std R^2: \", np.std(r2_arr_sgtrain))"
   ]
  },
  {
   "cell_type": "code",
   "execution_count": 85,
   "metadata": {},
   "outputs": [
    {
     "data": {
      "image/png": "[encoded data removed]",
      "text/plain": [
       "<Figure size 432x288 with 1 Axes>"
      ]
     },
     "metadata": {
      "needs_background": "light"
     },
     "output_type": "display_data"
    }
   ],
   "source": [
    "plt.hist(r2_arr_sgtrain, bins=100)\n",
    "plt.xlim([0.92, 1])\n",
    "plt.xlabel('R$^2$ on Training Data')\n",
    "plt.ylabel('Number of Occurrences')\n",
    "plt.show()"
   ]
  },
  {
   "cell_type": "markdown",
   "metadata": {},
   "source": [
    "# dP Final Model ==============================================="
   ]
  },
  {
   "cell_type": "code",
   "execution_count": 86,
   "metadata": {},
   "outputs": [
    {
     "name": "stdout",
     "output_type": "stream",
     "text": [
      "46 seconds to predict 500 samples from the test data set for dP model\n",
      "Mean MRE:  0.0031870177\n",
      "Std MRE:  0.0023915959\n",
      "Mean R^2:  0.9966852369440425\n",
      "Std R^2:  0.004486964897632156\n"
     ]
    }
   ],
   "source": [
    "# TEST DATA\n",
    "eval_loader = torch.utils.data.DataLoader(torch.utils.data.TensorDataset(test_a_dP, test_u_dP), batch_size=1, shuffle=False)\n",
    "\n",
    "from FNORUNet_4layer_model import *\n",
    "model2 = torch.load('/scratch/users/andchu/FNOUNet/saved_models/dP3d_FNORUNet_249ep_32width_12m1_12m2_12m3_3000train_250eps_l1err_0.0005lr_1zerr_zscorenorm_andrew_FNORUNet4_4layer', map_location=torch.device('cuda:0'))\n",
    "\n",
    "mre_arr_dptest = []\n",
    "r2_arr_dptest = []\n",
    "\n",
    "t1 = default_timer()\n",
    "with torch.no_grad():\n",
    "    for x, y in eval_loader:\n",
    "        x, y = x.to(device), y.to(device)\n",
    "        pred = model2(x).view(-1,96,200,24)\n",
    "        \n",
    "        x_plot = x.cpu().detach().numpy()\n",
    "        y_plot = y.cpu().detach().numpy() * dP_std + dP_mean\n",
    "        pred_plot = pred.cpu().detach().numpy() * dP_std + dP_mean\n",
    "        \n",
    "        mre_arr_dptest.append(MRE(y_plot, pred_plot))\n",
    "        r2_arr_dptest.append(R2(y_plot, pred_plot))\n",
    "t2 = default_timer()\n",
    "print(round(t2 - t1), \"seconds to predict 500 samples from the test data set for dP model\")\n",
    "\n",
    "print(\"Mean MRE: \", np.mean(mre_arr_dptest))\n",
    "print(\"Std MRE: \", np.std(mre_arr_dptest))\n",
    "print(\"Mean R^2: \", np.mean(r2_arr_dptest))\n",
    "print(\"Std R^2: \", np.std(r2_arr_dptest))"
   ]
  },
  {
   "cell_type": "code",
   "execution_count": 88,
   "metadata": {},
   "outputs": [
    {
     "data": {
      "image/png": "[encoded data removed]",
      "text/plain": [
       "<Figure size 432x288 with 1 Axes>"
      ]
     },
     "metadata": {
      "needs_background": "light"
     },
     "output_type": "display_data"
    }
   ],
   "source": [
    "plt.hist(r2_arr_dptest, bins=100)\n",
    "plt.xlim([0.92, 1])\n",
    "plt.xlabel('R$^2$ on Validation Data')\n",
    "plt.ylabel('Number of Occurrences')\n",
    "plt.show()"
   ]
  },
  {
   "cell_type": "code",
   "execution_count": 87,
   "metadata": {},
   "outputs": [
    {
     "name": "stdout",
     "output_type": "stream",
     "text": [
      "51 seconds to predict 500 samples from the training data set for dP model\n",
      "Mean MRE:  0.0024248927\n",
      "Std MRE:  0.001655226\n",
      "Mean R^2:  0.9978955066137284\n",
      "Std R^2:  0.004690365527533965\n"
     ]
    }
   ],
   "source": [
    "#TRAIN DATA\n",
    "np.random.seed(0)\n",
    "shuffle_index = np.random.choice(train_a_dP.size()[0], 600, replace=False)\n",
    "\n",
    "eval_loader = torch.utils.data.DataLoader(torch.utils.data.TensorDataset(train_a_dP[shuffle_index, ...], train_u_dP[shuffle_index, ...]), batch_size=1, shuffle=False)\n",
    "\n",
    "from FNORUNet_4layer_model import *\n",
    "model2 = torch.load('/scratch/users/andchu/FNOUNet/saved_models/dP3d_FNORUNet_249ep_32width_12m1_12m2_12m3_3000train_250eps_l1err_0.0005lr_1zerr_zscorenorm_andrew_FNORUNet4_4layer', map_location=torch.device('cuda:0'))\n",
    "\n",
    "mre_arr_dptrain = []\n",
    "r2_arr_dptrain = []\n",
    "\n",
    "t1 = default_timer()\n",
    "with torch.no_grad():\n",
    "    for x, y in eval_loader:\n",
    "        x, y = x.to(device), y.to(device)\n",
    "        pred = model2(x).view(-1,96,200,24)\n",
    "        \n",
    "        x_plot = x.cpu().detach().numpy()\n",
    "        y_plot = y.cpu().detach().numpy() * dP_std + dP_mean\n",
    "        pred_plot = pred.cpu().detach().numpy() * dP_std + dP_mean\n",
    "        \n",
    "        mre_arr_dptrain.append(MRE(y_plot, pred_plot))\n",
    "        r2_arr_dptrain.append(R2(y_plot, pred_plot))\n",
    "t2 = default_timer()\n",
    "print(round(t2 - t1), \"seconds to predict 500 samples from the training data set for dP model\")\n",
    "\n",
    "print(\"Mean MRE: \", np.mean(mre_arr_dptrain))\n",
    "print(\"Std MRE: \", np.std(mre_arr_dptrain))\n",
    "print(\"Mean R^2: \", np.mean(r2_arr_dptrain))\n",
    "print(\"Std R^2: \", np.std(r2_arr_dptrain))"
   ]
  },
  {
   "cell_type": "code",
   "execution_count": 89,
   "metadata": {},
   "outputs": [
    {
     "data": {
      "image/png": "[encoded data removed]",
      "text/plain": [
       "<Figure size 432x288 with 1 Axes>"
      ]
     },
     "metadata": {
      "needs_background": "light"
     },
     "output_type": "display_data"
    }
   ],
   "source": [
    "plt.hist(r2_arr_dptrain, bins=100)\n",
    "plt.xlim([0.92, 1])\n",
    "plt.xlabel('R$^2$ on Validation Data')\n",
    "plt.ylabel('Number of Occurrences')\n",
    "plt.show()"
   ]
  },
  {
   "cell_type": "markdown",
   "metadata": {},
   "source": [
    "# Plotting all the R^2 histograms (and saving data)\n",
    "# ===================================="
   ]
  },
  {
   "cell_type": "code",
   "execution_count": 110,
   "metadata": {},
   "outputs": [
    {
     "data": {
      "image/png": "[encoded data removed]",
      "text/plain": [
       "<Figure size 720x360 with 4 Axes>"
      ]
     },
     "metadata": {
      "needs_background": "light"
     },
     "output_type": "display_data"
    }
   ],
   "source": [
    "fig = plt.figure(figsize=(10, 5))\n",
    "\n",
    "def plotHist(position, data, xlabel, ylabel, title):\n",
    "    axsObj = fig.add_axes(position)\n",
    "    \n",
    "    axsObj.set_xlabel(xlabel)\n",
    "    axsObj.set_ylabel(ylabel)\n",
    "    axsObj.set_title(title)\n",
    "    axsObj.set_xlim([0.92, 1])\n",
    "    axsObj.set_ylim([0, 450])    \n",
    "    axsObj.hist(data, bins=50)\n",
    "    \n",
    "pos = [None] * 4\n",
    "pltwid = 0.19\n",
    "plthei = 0.30\n",
    "plty = 0.1\n",
    "pos[0] = [0.05, plty, pltwid, plthei]\n",
    "pos[1] = [0.29, plty, pltwid, plthei]\n",
    "pos[2] = [0.53, plty, pltwid, plthei]\n",
    "pos[3] = [0.77, plty, pltwid, plthei]\n",
    "\n",
    "\n",
    "plotHist(pos[0], r2_arr_sgtrain, \"R$^2$ Score\", \"Frequency\", \"$SG$ Training\")\n",
    "plotHist(pos[1], r2_arr_sgtest, \"R$^2$ Score\", \"\", \"$SG$ Validation\")\n",
    "plotHist(pos[2], r2_arr_dptrain, \"R$^2$ Score\", \"\", \"$dP$ Training\")\n",
    "plotHist(pos[3], r2_arr_dptest, \"R$^2$ Score\", \"\", \"$dP$ Validation\")\n",
    "\n",
    "plt.show()"
   ]
  },
  {
   "cell_type": "code",
   "execution_count": 111,
   "metadata": {},
   "outputs": [
    {
     "data": {
      "image/png": "[encoded data removed]",
      "text/plain": [
       "<Figure size 720x360 with 4 Axes>"
      ]
     },
     "metadata": {
      "needs_background": "light"
     },
     "output_type": "display_data"
    }
   ],
   "source": [
    "fig = plt.figure(figsize=(10, 5))\n",
    "\n",
    "def plotHist(position, data, xlabel, ylabel, title):\n",
    "    axsObj = fig.add_axes(position)\n",
    "    \n",
    "    axsObj.set_xlabel(xlabel)\n",
    "    axsObj.set_ylabel(ylabel)\n",
    "    axsObj.set_title(title)\n",
    "    axsObj.set_xlim([0.92, 1])\n",
    "#     axsObj.set_ylim([0, 450])    \n",
    "    axsObj.hist(data, bins=50)\n",
    "    \n",
    "pos = [None] * 4\n",
    "pltwid = 0.19\n",
    "plthei = 0.30\n",
    "plty = 0.1\n",
    "pos[0] = [0.05, plty, pltwid, plthei]\n",
    "pos[1] = [0.29, plty, pltwid, plthei]\n",
    "pos[2] = [0.53, plty, pltwid, plthei]\n",
    "pos[3] = [0.77, plty, pltwid, plthei]\n",
    "\n",
    "\n",
    "plotHist(pos[0], r2_arr_sgtrain, \"R$^2$ Score\", \"Frequency\", \"$SG$ Training\")\n",
    "plotHist(pos[1], r2_arr_sgtest, \"R$^2$ Score\", \"\", \"$SG$ Validation\")\n",
    "plotHist(pos[2], r2_arr_dptrain, \"R$^2$ Score\", \"\", \"$dP$ Training\")\n",
    "plotHist(pos[3], r2_arr_dptest, \"R$^2$ Score\", \"\", \"$dP$ Validation\")\n",
    "\n",
    "plt.show()"
   ]
  },
  {
   "cell_type": "code",
   "execution_count": 113,
   "metadata": {},
   "outputs": [],
   "source": [
    "# SAVE DATA\n",
    "with open('_paper_calculateModelErr_ALL.npy', 'wb') as f:\n",
    "    np.save(f, r2_arr_sgtrain)\n",
    "    np.save(f, r2_arr_sgtest)\n",
    "    np.save(f, r2_arr_dptrain)\n",
    "    np.save(f, r2_arr_dptest)\n",
    "    np.save(f, mpe_arr_sgtrain)\n",
    "    np.save(f, mpe_arr_sgtest)\n",
    "    np.save(f, mre_arr_dptrain)\n",
    "    np.save(f, mre_arr_dptest)"
   ]
  },
  {
   "cell_type": "markdown",
   "metadata": {},
   "source": [
    "# SG derivative error models ===================================="
   ]
  },
  {
   "cell_type": "code",
   "execution_count": null,
   "metadata": {},
   "outputs": [],
   "source": [
    "# LOAD MODELS\n",
    "from FNORUNet_5layer_model import *\n",
    "\n",
    "model1 = torch.load('/scratch/users/andchu/FNOUNet/saved_models/SG3d_FNORUNet_99ep_32width_12m1_12m2_12m3_3000train_100eps_l2err_0.0005lr_0zerr_zscorenorm_andrew_FNORUNet4_5layer_0rerr', map_location=torch.device('cuda:0'))\n",
    "model2 = torch.load('/scratch/users/andchu/FNOUNet/saved_models/SG3d_FNORUNet_99ep_32width_12m1_12m2_12m3_3000train_100eps_l2err_0.0005lr_0zerr_zscorenorm_andrew_FNORUNet4_5layer', map_location=torch.device('cuda:0'))\n",
    "model3 = torch.load('/scratch/users/andchu/FNOUNet/saved_models/SG3d_FNORUNet_99ep_32width_12m1_12m2_12m3_3000train_100eps_l2err_0.0005lr_1zerr_zscorenorm_andrew_FNORUNet4_5layer', map_location=torch.device('cuda:0'))"
   ]
  },
  {
   "cell_type": "code",
   "execution_count": null,
   "metadata": {},
   "outputs": [],
   "source": [
    "# TEST DATA\n",
    "eval_loader = torch.utils.data.DataLoader(torch.utils.data.TensorDataset(test_a_SG, test_u_SG), batch_size=1, shuffle=False)\n",
    "\n",
    "mpe_arr_sgtest1 = []\n",
    "r2_arr_sgtest1 = []\n",
    "mpe_arr_sgtest2 = []\n",
    "r2_arr_sgtest2 = []\n",
    "mpe_arr_sgtest3 = []\n",
    "r2_arr_sgtest3 = []\n",
    "\n",
    "t1 = default_timer()\n",
    "with torch.no_grad():\n",
    "    for x, y in eval_loader:\n",
    "        x, y = x.to(device), y.to(device)\n",
    "        pred1 = model1(x).view(-1,96,200,24)\n",
    "        pred2 = model2(x).view(-1,96,200,24)\n",
    "        pred3 = model3(x).view(-1,96,200,24)\n",
    "        \n",
    "        x_plot = x.cpu().detach().numpy()\n",
    "        y_plot = y.cpu().detach().numpy() * SG_std + SG_mean\n",
    "        pred1_plot = pred1.cpu().detach().numpy() * SG_std + SG_mean\n",
    "        pred2_plot = pred2.cpu().detach().numpy() * SG_std + SG_mean\n",
    "        pred3_plot = pred3.cpu().detach().numpy() * SG_std + SG_mean\n",
    "        \n",
    "        mpe_arr_sgtest1.append(MPE(y_plot, pred1_plot))\n",
    "        r2_arr_sgtest1.append(R2(y_plot, pred1_plot))\n",
    "        mpe_arr_sgtest2.append(MPE(y_plot, pred2_plot))\n",
    "        r2_arr_sgtest2.append(R2(y_plot, pred2_plot))\n",
    "        mpe_arr_sgtest3.append(MPE(y_plot, pred3_plot))\n",
    "        r2_arr_sgtest3.append(R2(y_plot, pred3_plot))\n",
    "t2 = default_timer()\n",
    "print(round(t2 - t1), \"seconds to predict 500 samples from the test data set for SG derivative error models\")\n",
    "\n",
    "print(\"MODEL 1 ---- no derivative errors\")\n",
    "print(\"Mean MPE: \", np.mean(mpe_arr_sgtest1))\n",
    "print(\"Std MPE: \", np.std(mpe_arr_sgtest1))\n",
    "print(\"Mean R^2: \", np.mean(r2_arr_sgtest1))\n",
    "print(\"Std R^2: \", np.std(r2_arr_sgtest1))\n",
    "\n",
    "print(\"MODEL 2 ---- only dy/dr\")\n",
    "print(\"Mean MPE: \", np.mean(mpe_arr_sgtest2))\n",
    "print(\"Std MPE: \", np.std(mpe_arr_sgtest2))\n",
    "print(\"Mean R^2: \", np.mean(r2_arr_sgtest2))\n",
    "print(\"Std R^2: \", np.std(r2_arr_sgtest2))\n",
    "\n",
    "print(\"MODEL 3 ---- both dy/dr and dy/dz\")\n",
    "print(\"Mean MPE: \", np.mean(mpe_arr_sgtest3))\n",
    "print(\"Std MPE: \", np.std(mpe_arr_sgtest3))\n",
    "print(\"Mean R^2: \", np.mean(r2_arr_sgtest3))\n",
    "print(\"Std R^2: \", np.std(r2_arr_sgtest3))"
   ]
  },
  {
   "cell_type": "code",
   "execution_count": null,
   "metadata": {},
   "outputs": [],
   "source": [
    "TRAIN DATA\n",
    "np.random.seed(0)\n",
    "shuffle_index = np.random.choice(train_a_SG.size()[0], 600, replace=False)\n",
    "\n",
    "eval_loader = torch.utils.data.DataLoader(torch.utils.data.TensorDataset(train_a_SG[shuffle_index, ...], train_u_SG[shuffle_index, ...]), batch_size=1, shuffle=False)\n",
    "\n",
    "mpe_arr_sgtrain1 = []\n",
    "r2_arr_sgtrain1 = []\n",
    "mpe_arr_sgtrain2 = []\n",
    "r2_arr_sgtrain2 = []\n",
    "mpe_arr_sgtrain3 = []\n",
    "r2_arr_sgtrain3 = []\n",
    "\n",
    "t1 = default_timer()\n",
    "with torch.no_grad():\n",
    "    for x, y in eval_loader:\n",
    "        x, y = x.to(device), y.to(device)\n",
    "        pred1 = model1(x).view(-1,96,200,24)\n",
    "        pred2 = model2(x).view(-1,96,200,24)\n",
    "        pred3 = model3(x).view(-1,96,200,24)\n",
    "        \n",
    "        x_plot = x.cpu().detach().numpy()\n",
    "        y_plot = y.cpu().detach().numpy() * SG_std + SG_mean\n",
    "        pred1_plot = pred1.cpu().detach().numpy() * SG_std + SG_mean\n",
    "        pred2_plot = pred2.cpu().detach().numpy() * SG_std + SG_mean\n",
    "        pred3_plot = pred3.cpu().detach().numpy() * SG_std + SG_mean\n",
    "        \n",
    "        mpe_arr_sgtrain1.append(MPE(y_plot, pred1_plot))\n",
    "        r2_arr_sgtrain1.append(R2(y_plot, pred1_plot))\n",
    "        mpe_arr_sgtrain2.append(MPE(y_plot, pred2_plot))\n",
    "        r2_arr_sgtrain2.append(R2(y_plot, pred2_plot))\n",
    "        mpe_arr_sgtrain3.append(MPE(y_plot, pred3_plot))\n",
    "        r2_arr_sgtrain3.append(R2(y_plot, pred3_plot))\n",
    "t2 = default_timer()\n",
    "print(round(t2 - t1), \"seconds to predict 500 samples from the training data set for SG derivative error models\")\n",
    "\n",
    "print(\"MODEL 1 ---- no derivative errors\")\n",
    "print(\"Mean MPE: \", np.mean(mpe_arr_sgtrain1))\n",
    "print(\"Std MPE: \", np.std(mpe_arr_sgtrain1))\n",
    "print(\"Mean R^2: \", np.mean(r2_arr_sgtrain1))\n",
    "print(\"Std R^2: \", np.std(r2_arr_sgtrain1))\n",
    "\n",
    "print(\"MODEL 2 ---- only dy/dr\")\n",
    "print(\"Mean MPE: \", np.mean(mpe_arr_sgtrain2))\n",
    "print(\"Std MPE: \", np.std(mpe_arr_sgtrain2))\n",
    "print(\"Mean R^2: \", np.mean(r2_arr_sgtrain2))\n",
    "print(\"Std R^2: \", np.std(r2_arr_sgtrain2))\n",
    "\n",
    "print(\"MODEL 3 ---- both dy/dr and dy/dz\")\n",
    "print(\"Mean MPE: \", np.mean(mpe_arr_sgtrain3))\n",
    "print(\"Std MPE: \", np.std(mpe_arr_sgtrain3))\n",
    "print(\"Mean R^2: \", np.mean(r2_arr_sgtrain3))\n",
    "print(\"Std R^2: \", np.std(r2_arr_sgtrain3))"
   ]
  },
  {
   "cell_type": "markdown",
   "metadata": {},
   "source": [
    "# dP derivative error models ===================================="
   ]
  },
  {
   "cell_type": "code",
   "execution_count": null,
   "metadata": {},
   "outputs": [],
   "source": [
    "# LOAD MODELS\n",
    "from FNORUNet_4layer_model import *\n",
    "\n",
    "model1 = torch.load('/scratch/users/andchu/FNOUNet/saved_models/dP3d_FNORUNet_99ep_32width_12m1_12m2_12m3_3000train_100eps_l1err_0.0005lr_0zerr_zscorenorm_andrew_FNORUNet4_4layer_0rerr', map_location=torch.device('cuda:0'))\n",
    "model2 = torch.load('/scratch/users/andchu/FNOUNet/saved_models/dP3d_FNORUNet_99ep_32width_12m1_12m2_12m3_3000train_100eps_l1err_0.0005lr_0zerr_zscorenorm_andrew_FNORUNet4_4layer', map_location=torch.device('cuda:0'))\n",
    "model3 = torch.load('/scratch/users/andchu/FNOUNet/saved_models/dP3d_FNORUNet_99ep_32width_12m1_12m2_12m3_3000train_100eps_l1err_0.0005lr_1zerr_zscorenorm_andrew_FNORUNet4_4layer', map_location=torch.device('cuda:0'))"
   ]
  },
  {
   "cell_type": "code",
   "execution_count": null,
   "metadata": {},
   "outputs": [],
   "source": [
    "# TEST DATA\n",
    "eval_loader = torch.utils.data.DataLoader(torch.utils.data.TensorDataset(test_a_dP, test_u_dP), batch_size=1, shuffle=False)\n",
    "\n",
    "mre_arr_dptest1 = []\n",
    "r2_arr_dptest1 = []\n",
    "mre_arr_dptest2 = []\n",
    "r2_arr_dptest2 = []\n",
    "mre_arr_dptest3 = []\n",
    "r2_arr_dptest3 = []\n",
    "\n",
    "t1 = default_timer()\n",
    "with torch.no_grad():\n",
    "    for x, y in eval_loader:\n",
    "        x, y = x.to(device), y.to(device)\n",
    "        pred1 = model1(x).view(-1,96,200,24)\n",
    "        pred2 = model2(x).view(-1,96,200,24)\n",
    "        pred3 = model3(x).view(-1,96,200,24)\n",
    "        \n",
    "        x_plot = x.cpu().detach().numpy()\n",
    "        y_plot = y.cpu().detach().numpy() * dP_std + dP_mean\n",
    "        pred1_plot = pred1.cpu().detach().numpy() * dP_std + dP_mean\n",
    "        pred2_plot = pred2.cpu().detach().numpy() * dP_std + dP_mean\n",
    "        pred3_plot = pred3.cpu().detach().numpy() * dP_std + dP_mean\n",
    "        \n",
    "        mre_arr_dptest1.append(MRE(y_plot, pred1_plot))\n",
    "        r2_arr_dptest1.append(R2(y_plot, pred1_plot))\n",
    "        mre_arr_dptest2.append(MRE(y_plot, pred2_plot))\n",
    "        r2_arr_dptest2.append(R2(y_plot, pred2_plot))\n",
    "        mre_arr_dptest3.append(MRE(y_plot, pred3_plot))\n",
    "        r2_arr_dptest3.append(R2(y_plot, pred3_plot))\n",
    "t2 = default_timer()\n",
    "print(round(t2 - t1), \"seconds to predict 500 samples from the test data set for dP derivative error models\")\n",
    "\n",
    "print(\"MODEL 1 ---- no derivative errors\")\n",
    "print(\"Mean MPE: \", np.mean(mre_arr_dptest1))\n",
    "print(\"Std MPE: \", np.std(mre_arr_dptest1))\n",
    "print(\"Mean R^2: \", np.mean(r2_arr_dptest1))\n",
    "print(\"Std R^2: \", np.std(r2_arr_dptest1))\n",
    "\n",
    "print(\"MODEL 2 ---- only dy/dr\")\n",
    "print(\"Mean MPE: \", np.mean(mre_arr_dptest2))\n",
    "print(\"Std MPE: \", np.std(mre_arr_dptest2))\n",
    "print(\"Mean R^2: \", np.mean(r2_arr_dptest2))\n",
    "print(\"Std R^2: \", np.std(r2_arr_dptest2))\n",
    "\n",
    "print(\"MODEL 3 ---- both dy/dr and dy/dz\")\n",
    "print(\"Mean MPE: \", np.mean(mre_arr_dptest3))\n",
    "print(\"Std MPE: \", np.std(mre_arr_dptest3))\n",
    "print(\"Mean R^2: \", np.mean(r2_arr_dptest3))\n",
    "print(\"Std R^2: \", np.std(r2_arr_dptest3))"
   ]
  },
  {
   "cell_type": "code",
   "execution_count": null,
   "metadata": {},
   "outputs": [],
   "source": [
    "# TRAIN DATA\n",
    "np.random.seed(0)\n",
    "shuffle_index = np.random.choice(train_a_dP.size()[0], 600, replace=False)\n",
    "\n",
    "eval_loader = torch.utils.data.DataLoader(torch.utils.data.TensorDataset(train_a_dP[shuffle_index, ...], train_u_dP[shuffle_index, ...]), batch_size=1, shuffle=False)\n",
    "\n",
    "mre_arr_dptrain1 = []\n",
    "r2_arr_dptrain1 = []\n",
    "mre_arr_dptrain2 = []\n",
    "r2_arr_dptrain2 = []\n",
    "mre_arr_dptrain3 = []\n",
    "r2_arr_dptrain3 = []\n",
    "\n",
    "t1 = default_timer()\n",
    "with torch.no_grad():\n",
    "    for x, y in eval_loader:\n",
    "        x, y = x.to(device), y.to(device)\n",
    "        pred1 = model1(x).view(-1,96,200,24)\n",
    "        pred2 = model2(x).view(-1,96,200,24)\n",
    "        pred3 = model3(x).view(-1,96,200,24)\n",
    "        \n",
    "        x_plot = x.cpu().detach().numpy()\n",
    "        y_plot = y.cpu().detach().numpy() * dP_std + dP_mean\n",
    "        pred1_plot = pred1.cpu().detach().numpy() * dP_std + dP_mean\n",
    "        pred2_plot = pred2.cpu().detach().numpy() * dP_std + dP_mean\n",
    "        pred3_plot = pred3.cpu().detach().numpy() * dP_std + dP_mean\n",
    "        \n",
    "        mre_arr_dptrain1.append(MRE(y_plot, pred1_plot))\n",
    "        r2_arr_dptrain1.append(R2(y_plot, pred1_plot))\n",
    "        mre_arr_dptrain2.append(MRE(y_plot, pred2_plot))\n",
    "        r2_arr_dptrain2.append(R2(y_plot, pred2_plot))\n",
    "        mre_arr_dptrain3.append(MRE(y_plot, pred3_plot))\n",
    "        r2_arr_dptrain3.append(R2(y_plot, pred3_plot))\n",
    "t2 = default_timer()\n",
    "print(round(t2 - t1), \"seconds to predict 500 samples from the training data set for dP derivative error models\")\n",
    "\n",
    "print(\"MODEL 1 ---- no derivative errors\")\n",
    "print(\"Mean MRE: \", np.mean(mre_arr_dptrain1))\n",
    "print(\"Std MRE: \", np.std(mre_arr_dptrain1))\n",
    "print(\"Mean R^2: \", np.mean(r2_arr_dptrain1))\n",
    "print(\"Std R^2: \", np.std(r2_arr_dptrain1))\n",
    "\n",
    "print(\"MODEL 2 ---- only dy/dr\")\n",
    "print(\"Mean MRE: \", np.mean(mre_arr_dptrain2))\n",
    "print(\"Std MRE: \", np.std(mre_arr_dptrain2))\n",
    "print(\"Mean R^2: \", np.mean(r2_arr_dptrain2))\n",
    "print(\"Std R^2: \", np.std(r2_arr_dptrain2))\n",
    "\n",
    "print(\"MODEL 3 ---- both dy/dr and dy/dz\")\n",
    "print(\"Mean MRE: \", np.mean(mre_arr_dptrain3))\n",
    "print(\"Std MRE: \", np.std(mre_arr_dptrain3))\n",
    "print(\"Mean R^2: \", np.mean(r2_arr_dptrain3))\n",
    "print(\"Std R^2: \", np.std(r2_arr_dptrain3))"
   ]
  }
 ],
 "metadata": {
  "kernelspec": {
   "display_name": "Python 3",
   "language": "python",
   "name": "python3"
  },
  "language_info": {
   "codemirror_mode": {
    "name": "ipython",
    "version": 3
   },
   "file_extension": ".py",
   "mimetype": "text/x-python",
   "name": "python",
   "nbconvert_exporter": "python",
   "pygments_lexer": "ipython3",
   "version": "3.7.6"
  }
 },
 "nbformat": 4,
 "nbformat_minor": 5
}
