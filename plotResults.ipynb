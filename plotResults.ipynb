{
 "cells": [
  {
   "cell_type": "code",
   "execution_count": 1,
   "id": "375b87fd",
   "metadata": {},
   "outputs": [],
   "source": [
    "import torch\n",
    "import numpy as np\n",
    "import torch.nn as nn\n",
    "import torch.nn.functional as F\n",
    "\n",
    "import matplotlib.pyplot as plt\n",
    "from FNORUNet_4layer_model import *\n",
    "\n",
    "import operator\n",
    "from functools import reduce\n",
    "from functools import partial\n",
    "\n",
    "from timeit import default_timer\n",
    "import scipy.io\n",
    "import math\n",
    "import gc\n",
    "import glob\n",
    "\n",
    "torch.manual_seed(0)\n",
    "np.random.seed(0)\n",
    "\n",
    "from scipy.optimize import curve_fit\n",
    "import numpy as np\n",
    "import matplotlib.pyplot as plt\n",
    "import matplotlib.cm\n",
    "from scipy import stats"
   ]
  },
  {
   "cell_type": "code",
   "execution_count": 2,
   "id": "5b8a321c",
   "metadata": {},
   "outputs": [
    {
     "name": "stdout",
     "output_type": "stream",
     "text": [
      "Checkpoint 1\n"
     ]
    }
   ],
   "source": [
    "hf_r = h5py.File(f'/oak/stanford/schools/ees/smbenson/andchu/shale_clean.hdf5', 'r')\n",
    "data_x_shale = np.array(hf_r.get('x'))\n",
    "data_SG_shale = np.array(hf_r.get('SG'))\n",
    "data_P_shale = np.array(hf_r.get('P'))\n",
    "data_P_init_shale = np.array(hf_r.get('P_init'))\n",
    "hf_r.close()\n",
    "del hf_r # clear up memory\n",
    "print('Checkpoint 1')"
   ]
  },
  {
   "cell_type": "code",
   "execution_count": 3,
   "id": "63b8ce94",
   "metadata": {},
   "outputs": [
    {
     "data": {
      "text/plain": [
       "(3616, 24, 96, 200)"
      ]
     },
     "execution_count": 3,
     "metadata": {},
     "output_type": "execute_result"
    }
   ],
   "source": [
    "data_SG_shale.shape"
   ]
  },
  {
   "cell_type": "code",
   "execution_count": 4,
   "id": "1bed237b",
   "metadata": {},
   "outputs": [
    {
     "name": "stdout",
     "output_type": "stream",
     "text": [
      "0.019367479650039064\n",
      "0.10341674964334545\n"
     ]
    }
   ],
   "source": [
    "# GAS SATURATION DATA -------------------------------------------------\n",
    "# Z SCORE NORMALIZATION\n",
    "SG_mean = np.mean(data_SG_shale)\n",
    "SG_std = np.std(data_SG_shale)\n",
    "print(SG_mean)\n",
    "print(SG_std)\n",
    "    \n",
    "data_SG_shale = (data_SG_shale - SG_mean)/(SG_std)"
   ]
  },
  {
   "cell_type": "code",
   "execution_count": 5,
   "id": "81c554f5",
   "metadata": {},
   "outputs": [],
   "source": [
    "data_x = np.concatenate([data_x_shale], axis=0)"
   ]
  },
  {
   "cell_type": "code",
   "execution_count": 6,
   "id": "4f2859a3",
   "metadata": {},
   "outputs": [],
   "source": [
    "data_sg = np.concatenate([data_SG_shale], axis=0)"
   ]
  },
  {
   "cell_type": "code",
   "execution_count": 7,
   "id": "84ac8e33",
   "metadata": {},
   "outputs": [],
   "source": [
    "# only need data from indices 3, 35, 102\n",
    "data_nr = data_x.shape[0]\n",
    "test_nr = 600\n",
    "train_nr = data_nr - test_nr\n",
    "\n",
    "np.random.seed(0)\n",
    "shuffle_index = np.random.choice(data_nr, data_nr, replace=False)"
   ]
  },
  {
   "cell_type": "code",
   "execution_count": 8,
   "id": "c4fb375c",
   "metadata": {},
   "outputs": [
    {
     "name": "stdout",
     "output_type": "stream",
     "text": [
      "(array([2529]),)\n",
      "(array([3416]),)\n",
      "(array([414]),)\n"
     ]
    }
   ],
   "source": [
    "# Indices we want\n",
    "print(np.where(shuffle_index == train_nr+4))\n",
    "print(np.where(shuffle_index == train_nr+36))\n",
    "print(np.where(shuffle_index == train_nr+103))"
   ]
  },
  {
   "cell_type": "code",
   "execution_count": 9,
   "id": "2fb91186",
   "metadata": {},
   "outputs": [
    {
     "name": "stdout",
     "output_type": "stream",
     "text": [
      "(3, 24, 96, 200)\n",
      "(3, 24, 96, 200)\n",
      "Checkpoint 2\n"
     ]
    }
   ],
   "source": [
    "list_of_indices = [2529, 3416, 414]\n",
    "data_x2 = data_x[list_of_indices, :, :, :]\n",
    "print(data_x2.shape)\n",
    "\n",
    "data_sg2 = data_sg[list_of_indices, :, :, :]\n",
    "print(data_sg2.shape)\n",
    "\n",
    "print('Checkpoint 2')"
   ]
  },
  {
   "cell_type": "code",
   "execution_count": 10,
   "id": "878ea6c4",
   "metadata": {},
   "outputs": [
    {
     "name": "stdout",
     "output_type": "stream",
     "text": [
      "Checkpoint 3\n"
     ]
    }
   ],
   "source": [
    "idx = [0,6,12,18,19,20,21,22,23]\n",
    "data_x2_fit = np.zeros((data_x2.shape[0], len(idx)+3, 96, 200))\n",
    "for j, index in enumerate(idx):\n",
    "    data_x2_fit[:,j,:,:] = data_x2[:,index,:,:]\n",
    "    \n",
    "print('Checkpoint 3')"
   ]
  },
  {
   "cell_type": "code",
   "execution_count": 11,
   "id": "404ada0e",
   "metadata": {},
   "outputs": [],
   "source": [
    "dz = 2.083330\n",
    "dx = [0.1]\n",
    "\n",
    "with open('DRV.txt') as f:\n",
    "    for line in f:\n",
    "        line = line.strip().split('*')\n",
    "        dx.append(float(line[-1]))\n",
    "dx = np.cumsum(dx)\n",
    "grid_x = dx/np.max(dx)\n",
    "grid_x = grid_x[1:]\n",
    "grid_y = np.linspace(0, 200, 96)/np.max(dx)"
   ]
  },
  {
   "cell_type": "code",
   "execution_count": 12,
   "id": "d2941f31",
   "metadata": {},
   "outputs": [],
   "source": [
    "data_x2_fit[:,-3,:,:] = grid_x[np.newaxis, np.newaxis, :]\n",
    "data_x2_fit[:,-2,:,:] = grid_y[np.newaxis, :, np.newaxis]\n",
    "data_x2_fit[:,-1,:,:] = np.ones(data_x2_fit[:,-1,:,:].shape)\n",
    "\n",
    "data_x2_fit[:,-3,:,:] = data_x2_fit[:,-3,:,:]/np.max(data_x2_fit[:,-3,:,:])\n",
    "data_x2_fit[:,-2,:,:] = data_x2_fit[:,-2,:,:]/np.max(data_x2_fit[:,-2,:,:])"
   ]
  },
  {
   "cell_type": "code",
   "execution_count": 13,
   "id": "36777faf",
   "metadata": {},
   "outputs": [
    {
     "name": "stdout",
     "output_type": "stream",
     "text": [
      "Checkpoint 4\n"
     ]
    }
   ],
   "source": [
    "x_in = data_x2_fit.transpose((0,2,3,1))\n",
    "SG = data_sg2.transpose((0,2,3,1))\n",
    "\n",
    "x_in = x_in.astype(np.float32)\n",
    "SG = SG.astype(np.float32)\n",
    "\n",
    "x_in = torch.from_numpy(x_in)\n",
    "SG = torch.from_numpy(SG)\n",
    "\n",
    "print('Checkpoint 4')"
   ]
  },
  {
   "cell_type": "code",
   "execution_count": 14,
   "id": "e34050f3",
   "metadata": {},
   "outputs": [
    {
     "name": "stdout",
     "output_type": "stream",
     "text": [
      "Checkpoint 5\n"
     ]
    }
   ],
   "source": [
    "# a input u output\n",
    "# train_a = x_in[:train_nr,:,:,:]\n",
    "# train_u = SG[:train_nr,:,:,:]\n",
    "\n",
    "# test_a = x_in[train_nr:train_nr+ test_nr,:,:,:]\n",
    "# test_u = SG[train_nr:train_nr+ test_nr,:,:,:]\n",
    "test_a = x_in\n",
    "test_u = SG\n",
    "\n",
    "T = 24\n",
    "\n",
    "# train_a = train_a[:,:,:,np.newaxis,:]\n",
    "test_a = test_a[:,:,:,np.newaxis,:]\n",
    "\n",
    "# train_a = train_a.repeat([1,1,1,T,1])\n",
    "test_a = test_a.repeat([1,1,1,T,1])\n",
    "\n",
    "print('Checkpoint 5')"
   ]
  },
  {
   "cell_type": "code",
   "execution_count": 15,
   "id": "d777baab",
   "metadata": {},
   "outputs": [
    {
     "name": "stdout",
     "output_type": "stream",
     "text": [
      "Checkpoint 6\n"
     ]
    }
   ],
   "source": [
    "t = np.cumsum(np.power(1.421245, range(24)))\n",
    "t /= np.max(t)\n",
    "for i in range(24):\n",
    "#     train_a[:,:,:,i,-1] = t[i]\n",
    "    test_a[:,:,:,i,-1] = t[i]\n",
    "    \n",
    "# train_a_SG = train_a\n",
    "test_a_SG = test_a\n",
    "# train_u_SG = train_u\n",
    "test_u_SG = test_u\n",
    "    \n",
    "print('Checkpoint 6')"
   ]
  },
  {
   "cell_type": "code",
   "execution_count": 16,
   "id": "4d3d2572",
   "metadata": {},
   "outputs": [],
   "source": [
    "del data_SG_shale # clear up memory"
   ]
  },
  {
   "cell_type": "markdown",
   "id": "c5adc4a8",
   "metadata": {},
   "source": [
    "#  come back to pressure if this works"
   ]
  },
  {
   "cell_type": "code",
   "execution_count": 5,
   "id": "5db39a1b",
   "metadata": {},
   "outputs": [
    {
     "name": "stdout",
     "output_type": "stream",
     "text": [
      "1.1323901246254815\n",
      "9.17773280445466\n",
      "Checkpoint 2\n",
      "Checkpoint 3\n",
      "Checkpoint 4\n",
      "Checkpoint 5\n",
      "Checkpoint 6\n"
     ]
    }
   ],
   "source": [
    "# PRESSURE BUILDUP ---------------------------------------------------\n",
    "data_dP_shale = data_P_shale - data_P_init_shale\n",
    "\n",
    "# Z-Score Normalization\n",
    "dP_mean = np.mean(data_dP_shale)\n",
    "dP_std = np.std(data_dP_shale)\n",
    "print(dP_mean)\n",
    "print(dP_std)\n",
    "\n",
    "data_dP_shale = (data_dP_shale - dP_mean)/(dP_std)\n",
    "\n",
    "data_x = np.concatenate([data_x_shale], axis=0)\n",
    "data_dP = np.concatenate([data_dP_shale], axis=0)\n",
    "\n",
    "data_nr = data_x.shape[0]\n",
    "test_nr = 600\n",
    "train_nr = data_nr - test_nr\n",
    "\n",
    "np.random.seed(0)\n",
    "shuffle_index = np.random.choice(data_nr, data_nr, replace=False)\n",
    "\n",
    "data_x = data_x[shuffle_index, ...]\n",
    "data_dP = data_dP[shuffle_index, ...]\n",
    "\n",
    "print('Checkpoint 2')\n",
    "\n",
    "idx = [0,6,12,18,19,20,21,22,23]\n",
    "data_x_fit = np.zeros((data_x.shape[0], len(idx)+3, 96, 200))\n",
    "for j, index in enumerate(idx):\n",
    "    data_x_fit[:,j,:,:] = data_x[:,index,:,:]\n",
    "\n",
    "print('Checkpoint 3')\n",
    "    \n",
    "dz = 2.083330\n",
    "dx = [0.1]\n",
    "\n",
    "with open('DRV.txt') as f:\n",
    "    for line in f:\n",
    "        line = line.strip().split('*')\n",
    "        dx.append(float(line[-1]))\n",
    "dx = np.cumsum(dx)\n",
    "grid_x = dx/np.max(dx)\n",
    "grid_x = grid_x[1:]\n",
    "grid_y = np.linspace(0, 200, 96)/np.max(dx)\n",
    "\n",
    "data_x_fit[:,-3,:,:] = grid_x[np.newaxis, np.newaxis, :]\n",
    "data_x_fit[:,-2,:,:] = grid_y[np.newaxis, :, np.newaxis]\n",
    "data_x_fit[:,-1,:,:] = np.ones(data_x_fit[:,-1,:,:].shape)\n",
    "\n",
    "data_x_fit[:,-3,:,:] = data_x_fit[:,-3,:,:]/np.max(data_x_fit[:,-3,:,:])\n",
    "data_x_fit[:,-2,:,:] = data_x_fit[:,-2,:,:]/np.max(data_x_fit[:,-2,:,:])\n",
    "\n",
    "x_in = data_x_fit.transpose((0,2,3,1))\n",
    "dP = data_dP.transpose((0,2,3,1))\n",
    "\n",
    "x_in = x_in.astype(np.float32)\n",
    "dP = dP.astype(np.float32)\n",
    "\n",
    "x_in = torch.from_numpy(x_in)\n",
    "dP = torch.from_numpy(dP)\n",
    "\n",
    "print('Checkpoint 4')\n",
    "\n",
    "# [3616, 96, 200, 12] = [num reservoirs, vertical length, lateral length, 12 parameters]\n",
    "# [3616, 96, 200, 12] = [..., ..., ..., 24 time steps for prediction]\n",
    "\n",
    "# a input u output\n",
    "train_a = x_in[:train_nr,:,:,:]\n",
    "train_u = dP[:train_nr,:,:,:]\n",
    "\n",
    "test_a = x_in[train_nr:train_nr+ test_nr,:,:,:]\n",
    "test_u = dP[train_nr:train_nr+ test_nr,:,:,:]\n",
    "\n",
    "T = 24\n",
    "\n",
    "train_a = train_a[:,:,:,np.newaxis,:]\n",
    "test_a = test_a[:,:,:,np.newaxis,:]\n",
    "\n",
    "train_a = train_a.repeat([1,1,1,T,1])\n",
    "test_a = test_a.repeat([1,1,1,T,1])\n",
    "\n",
    "print('Checkpoint 5')\n",
    "\n",
    "t = np.cumsum(np.power(1.421245, range(24)))\n",
    "t /= np.max(t)\n",
    "for i in range(24):\n",
    "    train_a[:,:,:,i,-1] = t[i]\n",
    "    test_a[:,:,:,i,-1] = t[i]\n",
    "    \n",
    "train_a_dP = train_a\n",
    "test_a_dP = test_a\n",
    "train_u_dP = train_u\n",
    "test_u_dP = test_u\n",
    "\n",
    "print('Checkpoint 6')"
   ]
  },
  {
   "cell_type": "code",
   "execution_count": 17,
   "id": "3f3357e5",
   "metadata": {},
   "outputs": [],
   "source": [
    "gpu_or_cpu = 'gpu'\n",
    "normMethod = \"zscore\"\n",
    "\n",
    "# Set torch device\n",
    "device = torch.device('cuda:0')"
   ]
  },
  {
   "cell_type": "code",
   "execution_count": 18,
   "id": "889d1c01",
   "metadata": {},
   "outputs": [],
   "source": [
    "def R2(x,y):\n",
    "    correlation_matrix = np.corrcoef(x.flatten(), y.flatten())\n",
    "    correlation_xy = correlation_matrix[0,1]\n",
    "    return correlation_xy**2\n",
    "\n",
    "def MPE(true, pred):\n",
    "    mask = np.logical_or(true!=0, np.abs(pred)>0.01)\n",
    "    return np.mean(np.abs(pred[mask]-true[mask]))\n",
    "\n",
    "def MRE(true, pred):\n",
    "    return np.mean(np.abs(pred-true)/np.max(true, axis=(0, 1, 2))[None, None, None, :])"
   ]
  },
  {
   "cell_type": "markdown",
   "id": "2d7f0529",
   "metadata": {},
   "source": [
    "# GAS SATURATION"
   ]
  },
  {
   "cell_type": "code",
   "execution_count": 8,
   "id": "f3dbe833",
   "metadata": {},
   "outputs": [
    {
     "name": "stdout",
     "output_type": "stream",
     "text": [
      "51 seconds to predict 600 sample test data set for SG model\n",
      "Mean MPE:  0.022036215\n",
      "Mean R^2:  0.9891983428432866\n"
     ]
    }
   ],
   "source": [
    "eval_loader = torch.utils.data.DataLoader(torch.utils.data.TensorDataset(test_a_SG, test_u_SG), batch_size=1, shuffle=False)\n",
    "\n",
    "from FNORUNet_5layer_model import *\n",
    "model1 = torch.load('/scratch/users/andchu/FNOUNet/saved_models/SG3d_FNORUNet_199ep_32width_12m1_12m2_12m3_3000train_200eps_l2err_0.0005lr_1zerr_zscorenorm_andrew_FNORUNet4_5layer', map_location=torch.device('cuda:0'))\n",
    "\n",
    "mpe_arr_sgtest = []\n",
    "r2_arr_sgtest = []\n",
    "\n",
    "t1 = default_timer()\n",
    "with torch.no_grad():\n",
    "    for x, y in eval_loader:\n",
    "        x, y = x.to(device), y.to(device)\n",
    "        pred = model1(x).view(-1,96,200,24)\n",
    "        \n",
    "        x_plot = x.cpu().detach().numpy()\n",
    "        y_plot = y.cpu().detach().numpy() * SG_std + SG_mean\n",
    "        pred_plot = pred.cpu().detach().numpy() * SG_std + SG_mean\n",
    "        \n",
    "        mpe_arr_sgtest.append(MPE(y_plot, pred_plot))\n",
    "        r2_arr_sgtest.append(R2(y_plot, pred_plot))\n",
    "t2 = default_timer()\n",
    "print(round(t2 - t1), \"seconds to predict 600 sample test data set for SG model\")\n",
    "\n",
    "print(\"Mean MPE: \", np.mean(mpe_arr_sgtest))\n",
    "print(\"Mean R^2: \", np.mean(r2_arr_sgtest))"
   ]
  },
  {
   "cell_type": "code",
   "execution_count": 9,
   "id": "42899a9f",
   "metadata": {},
   "outputs": [
    {
     "data": {
      "text/plain": [
       "array([576, 213,  20, 175, 144,  50, 563, 420, 381, 284, 349, 473, 574,\n",
       "       374, 418, 487,  90, 387, 157, 255, 373, 378, 183,  36, 218, 279,\n",
       "       369, 323, 350,  62, 206, 581, 482, 345,  23, 592, 149, 461, 451,\n",
       "       117, 371, 405,  66, 585, 221, 559,  43, 525,  72, 294])"
      ]
     },
     "execution_count": 9,
     "metadata": {},
     "output_type": "execute_result"
    }
   ],
   "source": [
    "# Get index of the n data samples with smallest MRE values\n",
    "n=50\n",
    "metric = mpe_arr_sgtest\n",
    "idx = np.argpartition(metric, n)\n",
    "idx = idx[:n]\n",
    "sortidx = np.argsort(np.array(metric)[idx])\n",
    "idx = idx[sortidx]\n",
    "idx"
   ]
  },
  {
   "cell_type": "code",
   "execution_count": 19,
   "id": "02aa25aa",
   "metadata": {},
   "outputs": [],
   "source": [
    "def pcolor(x, X, Y, thickness):\n",
    "    plt.jet()\n",
    "    return plt.pcolor(X[:thickness, :200], Y[:thickness, :200], np.flipud(x), shading='auto')\n",
    " \n",
    "def rel_err(yhat, y):\n",
    "    abs_err = np.abs(y - yhat)\n",
    "    rel_err = np.zeros(abs_err.shape)\n",
    "    rel_err = abs_err/(torch.max(y))\n",
    "    return rel_err\n",
    "\n",
    "def plotSG(n_lst):\n",
    "    dx = np.cumsum(3.5938*np.power(1.035012, range(200))) + 0.1\n",
    "    X, Y = np.meshgrid(dx, np.linspace(0,200,num = 96))\n",
    "\n",
    "    times = np.cumsum(np.power(1.421245, range(24)))\n",
    "    time_print = []\n",
    "    for t in range(times.shape[0]):\n",
    "        if times[t]<365:\n",
    "            title = str(int(times[t]))+' d'\n",
    "            time_print = np.append(time_print,title)\n",
    "        else:\n",
    "            title = f'{round(int(times[t])/365, 1)} y'\n",
    "            time_print = np.append(time_print,title)\n",
    "\n",
    "    # load data for reservoir n\n",
    "#     eval_loader = torch.utils.data.DataLoader(torch.utils.data.TensorDataset(test_a_SG[n_lst,...], test_u_SG[n_lst,...]), batch_size=1, shuffle=False)\n",
    "    eval_loader = torch.utils.data.DataLoader(torch.utils.data.TensorDataset(test_a_SG, test_u_SG), batch_size=1, shuffle=False)\n",
    "    counter = 0\n",
    "\n",
    "    fig = plt.figure(figsize=(15,5))\n",
    "\n",
    "    with torch.no_grad():\n",
    "        for x, y in eval_loader:\n",
    "            x, y = x.to(device), y.to(device)\n",
    "            pred = model1(x).view(-1,96,200,24)\n",
    "\n",
    "            y_plot = y.cpu().detach().numpy()\n",
    "            x_plot = x.cpu().detach().numpy()\n",
    "            pred_plot = pred.cpu().detach().numpy()\n",
    "\n",
    "            # un-normalization so that SG is between 0 and 1\n",
    "            if normMethod == 'minmax':\n",
    "                y_plot = y_plot*(SG_max - SG_min) + SG_min\n",
    "                pred_plot = pred_plot*(SG_max - SG_min) + SG_min\n",
    "            elif normMethod == 'zscore':\n",
    "                y_plot = y_plot*SG_std + SG_mean\n",
    "                pred_plot = pred_plot*SG_std + SG_mean\n",
    "\n",
    "            mask = x_plot[0,:,:,0,0] != 0\n",
    "            fullmask = x_plot[0, :, :, :, 0] != 0\n",
    "\n",
    "            thickness = sum(mask[:,0])\n",
    "\n",
    "            plumemask = np.logical_or(y_plot[0, :, :, 0] > 0.01, np.abs(pred_plot[0, :, :, 0]) > 0.01)\n",
    "\n",
    "    #         r2 = rsquared(pred_plot[0,:,:,t][mask].reshape((thickness, -1)), y_plot[0,:,:,t][mask].reshape((thickness, -1)))\n",
    "    #         mpe = MPE(pred_plot[0,:,:,t][mask].reshape((thickness, -1)), y_plot[0,:,:,t][mask].reshape((thickness, -1)))\n",
    "    #         mre = MRE(pred_plot[0,:,:,t][mask].reshape((thickness, -1)), y_plot[0,:,:,t][mask].reshape((thickness, -1)))\n",
    "\n",
    "    #         r2 = rsquared(pred_plot[0,:,:,:][plumemask], y_plot[0,:,:,:][plumemask])\n",
    "    #         mpe = MPE(pred_plot[0,:,:,:][fullmask], y_plot[0,:,:,:][fullmask])\n",
    "    #         mre = MRE(pred_plot[0,:,:,:][fullmask], y_plot[0,:,:,:][fullmask])\n",
    "\n",
    "            r2 = R2(y_plot, pred_plot)\n",
    "            mpe = MPE(y_plot, pred_plot)\n",
    "            \n",
    "            if counter == 0:\n",
    "                xmax = 3000\n",
    "            else:\n",
    "                xmax = 4000\n",
    "\n",
    "            plt.subplot(4,3,counter+1)\n",
    "            pcolor(np.log(np.exp(x_plot[0,:,:,0,0][mask].reshape((thickness, -1))*15)), X, Y, thickness)\n",
    "            plt.title('ln($k$) (log mD)')\n",
    "            plt.colorbar(fraction=0.02)\n",
    "    #         plt.clim([0, 100])\n",
    "    #         plt.clim([3, 8])\n",
    "            plt.xlim([0,xmax])\n",
    "            plt.xticks([], [])\n",
    "\n",
    "            plt.subplot(4,3,counter+4)\n",
    "            pcolor(y_plot[0,:,:,-1][mask].reshape((thickness, -1)), X, Y, thickness)\n",
    "            plt.title('$SG$ (-), $t = 30y$')\n",
    "            plt.colorbar(fraction=0.02)\n",
    "            plt.clim([0,1])\n",
    "            plt.xlim([0,xmax])\n",
    "            plt.xticks([], [])\n",
    "\n",
    "            plt.subplot(4,3,counter+7)\n",
    "            pcolor(pred_plot[0,:,:,-1][mask].reshape((thickness, -1)), X, Y, thickness)\n",
    "            plt.title('$\\hat{SG}$ (-), $t = 30y$')\n",
    "            plt.colorbar(fraction=0.02)\n",
    "            plt.clim([0,1])\n",
    "            plt.xlim([0,xmax])\n",
    "            plt.xticks([], [])\n",
    "\n",
    "            plt.subplot(4,3,counter+10)\n",
    "            pcolor(pred_plot[0,:,:,-1][mask].reshape((thickness, -1))- y_plot[0,:,:,-1][mask].reshape((thickness, -1)),\n",
    "                   X, Y, thickness)\n",
    "            plt.colorbar(fraction=0.02)\n",
    "    #         plt.title('MPE: ' + f'{np.round(mpe, 4) :.4f}' + ' (-)' + \n",
    "    #                   '\\nField R$^2$: ' + f'{np.round(r2, 4) :.4f}' + ' (-)' +\n",
    "    #                   '\\nPlume R$^2$: ' + f'{np.round(r2plume, 4) :.4f}' + ' (-)')\n",
    "#             plt.title('MPE: ' + f'{np.round(mpe, 4) :.4f}' + ', R$^2$: ' + f'{np.round(r2, 4) :.4f}' + ' (-)')\n",
    "            plt.title('MPE: ' + f'{np.round(mpe * 100, 1) :.1f}%')\n",
    "            plt.clim([-0.2,0.2])\n",
    "            plt.xlim([0,xmax])\n",
    "\n",
    "            counter += 1\n",
    "\n",
    "    plt.tight_layout()\n",
    "    plt.show()\n",
    "    # fig.savefig(f'_paper_SGresults_v4.png', dpi=300)\n",
    "    \n",
    "    return fig\n",
    "\n",
    "def scatter(x, y, name=None):\n",
    "    \"\"\"\n",
    "    x.shape [n1, n2, t]\n",
    "    y.shape [n1, n2, t]\n",
    "    \"\"\"\n",
    "    cmap = matplotlib.cm.get_cmap('jet')\n",
    "    \n",
    "    plt.figure(figsize=(3,3))\n",
    "    for t_idx in range(0,24):\n",
    "        xx = np.copy(x[:,:,t_idx].flatten())\n",
    "        yy = np.copy(y[:,:,t_idx].flatten())\n",
    "        rgba = np.array(cmap((t_idx+1)/24)).reshape(1,-1)\n",
    "        # plot data\n",
    "        plt.scatter(xx, yy, s=3, c=rgba, alpha=0.05)\n",
    "\n",
    "    x = np.copy(x.flatten() )\n",
    "    y = np.copy(y.flatten() )\n",
    "    r2 = rsquared(x,y)\n",
    "    n = len(y)\n",
    "    popt, pcov = curve_fit(f, x, y)\n",
    "\n",
    "    # calculate regression confidence interval\n",
    "    px = np.linspace(np.min(x), np.max(x), 100)\n",
    "    lpb, upb = predband(px, x, y, popt, f, conf=0.95)\n",
    "    \n",
    "    # prediction band (95% confidence)\n",
    "    plt.plot(px, lpb, 'k--', linewidth=1, label='95% pred band')\n",
    "    plt.plot(px, upb, 'k--', linewidth=1)\n",
    "    \n",
    "    plt.ylabel('CCSNet $(bar)$')\n",
    "    plt.xlabel('numerical simulation $(bar)$')\n",
    "    plt.legend(loc='lower right')\n",
    "    plt.text(0.6*np.max(x),0.2*np.max(x), f'$R^2$: {r2:.4f}')\n",
    "    if name != None:\n",
    "        plt.text(0.1*np.max(x),0.9*np.max(x), name, fontsize=12)\n",
    "    plt.show()\n",
    "    \n",
    "def rsquared(x,y):\n",
    "    correlation_matrix = np.corrcoef(x.flatten(), y.flatten())\n",
    "    correlation_xy = correlation_matrix[0,1]\n",
    "    return correlation_xy**2\n",
    "\n",
    "def f(x, a, b):\n",
    "    return a * x + b\n",
    "\n",
    "def predband(x, xd, yd, p, func, conf=0.95):\n",
    "    alpha = 1.0 - conf    # significance\n",
    "    N = xd.size          # data sample size\n",
    "    var_n = len(p)  # number of parameters\n",
    "    # Quantile of Student's t distribution for p=(1-alpha/2)\n",
    "    q = stats.t.ppf(1.0 - alpha / 2.0, N - var_n)\n",
    "    # Stdev of an individual measurement\n",
    "    se = np.sqrt(1. / (N - var_n) * \\\n",
    "                 np.sum((yd - func(xd, *p)) ** 2))\n",
    "    # Auxiliary definitions\n",
    "    sx = (x - xd.mean()) ** 2\n",
    "    sxd = np.sum((xd - xd.mean()) ** 2)\n",
    "    # Predicted values (best-fit model)\n",
    "    yp = func(x, *p)\n",
    "    # Prediction band\n",
    "    dy = q * se * np.sqrt(1.0+ (1.0/N) + (sx/sxd))\n",
    "    # Upper & lower prediction bands.\n",
    "    lpb, upb = yp - dy, yp + dy\n",
    "    return lpb, upb"
   ]
  },
  {
   "cell_type": "code",
   "execution_count": 20,
   "id": "90945722",
   "metadata": {},
   "outputs": [
    {
     "data": {
      "image/png": "[encoded data removed]",
      "text/plain": [
       "<Figure size 1080x360 with 24 Axes>"
      ]
     },
     "metadata": {
      "needs_background": "light"
     },
     "output_type": "display_data"
    }
   ],
   "source": [
    "from FNORUNet_5layer_model import *\n",
    "model1 = torch.load('/scratch/users/andchu/FNOUNet/saved_models/SG3d_FNORUNet_199ep_32width_12m1_12m2_12m3_3000train_200eps_l2err_0.0005lr_1zerr_zscorenorm_andrew_FNORUNet4_5layer', map_location=torch.device('cuda:0'))\n",
    "\n",
    "n_list = [0, 0, 0] # irrelevant now\n",
    "fig = plotSG(n_list)"
   ]
  },
  {
   "cell_type": "code",
   "execution_count": null,
   "id": "2bd73762",
   "metadata": {},
   "outputs": [],
   "source": [
    "from FNORUNet_5layer_model import *\n",
    "model1 = torch.load('/scratch/users/andchu/FNOUNet/saved_models/SG3d_FNORUNet_199ep_32width_12m1_12m2_12m3_3000train_200eps_l2err_0.0005lr_1zerr_zscorenorm_andrew_FNORUNet4_5layer', map_location=torch.device('cuda:0'))\n",
    "\n",
    "# n_lst = [255, 223, 387] # the indexes of the cases plotted for the SG figure\n",
    "n_lst = [35, 102, 3]\n",
    "# n_lst = [255, 102, 223]\n",
    "# 35, 102, 238\n",
    "fig = plotSG(n_lst)\n",
    "# fig.savefig(f'_paper_SGresults_v5.png', dpi=300)\n",
    "# fig.savefig(f'_paper_SGresults_v5_2.png', dpi=300)"
   ]
  },
  {
   "cell_type": "code",
   "execution_count": 18,
   "id": "1cb6e40e",
   "metadata": {},
   "outputs": [],
   "source": [
    "n_lst = [35, 102, 3]\n",
    "\n",
    "# load data for reservoir n\n",
    "eval_loader = torch.utils.data.DataLoader(torch.utils.data.TensorDataset(test_a_SG[n_lst,...], test_u_SG[n_lst,...]), batch_size=1, shuffle=False)\n",
    "\n",
    "real = np.zeros([3, 96, 200, 24])\n",
    "predicted = np.zeros([3, 96, 200, 24])\n",
    "\n",
    "i = 0\n",
    "with torch.no_grad():\n",
    "    for x, y in eval_loader:\n",
    "        x, y = x.to(device), y.to(device)\n",
    "        pred = model1(x).view(-1,96,200,24)\n",
    "\n",
    "        y_plot = y.cpu().detach().numpy()\n",
    "        x_plot = x.cpu().detach().numpy()\n",
    "        pred_plot = pred.cpu().detach().numpy()\n",
    "\n",
    "        # un-normalization so that SG is between 0 and 1\n",
    "        y_plot = y_plot*SG_std + SG_mean\n",
    "        pred_plot = pred_plot*SG_std + SG_mean\n",
    "        \n",
    "        real[i, :, :, :] = y_plot\n",
    "        predicted[i, :, :, :] = pred_plot        \n",
    "        i += 1"
   ]
  },
  {
   "cell_type": "code",
   "execution_count": 22,
   "id": "fcf80715",
   "metadata": {},
   "outputs": [
    {
     "data": {
      "image/png": "[encoded data removed]",
      "text/plain": [
       "<Figure size 216x216 with 1 Axes>"
      ]
     },
     "metadata": {
      "needs_background": "light"
     },
     "output_type": "display_data"
    }
   ],
   "source": [
    "scatter(real[0, :, :, :], predicted[0, :, :, :], name='a')"
   ]
  },
  {
   "cell_type": "markdown",
   "id": "776c0eae",
   "metadata": {},
   "source": [
    "# PRESSURE BUILDUP"
   ]
  },
  {
   "cell_type": "code",
   "execution_count": 8,
   "id": "713d849b",
   "metadata": {},
   "outputs": [
    {
     "name": "stdout",
     "output_type": "stream",
     "text": [
      "51 seconds to predict 600 sample test data set for dP model\n",
      "Mean MRE:  0.0031790351\n",
      "Std MRE:  0.0023502272\n",
      "Mean R^2:  0.9967688185929925\n",
      "Std R^2:  0.004307477635210192\n"
     ]
    }
   ],
   "source": [
    "eval_loader = torch.utils.data.DataLoader(torch.utils.data.TensorDataset(test_a_dP, test_u_dP), batch_size=1, shuffle=False)\n",
    "\n",
    "from FNORUNet_4layer_model import *\n",
    "model2 = torch.load('/scratch/users/andchu/FNOUNet/saved_models/dP3d_FNORUNet_249ep_32width_12m1_12m2_12m3_3000train_250eps_l1err_0.0005lr_1zerr_zscorenorm_andrew_FNORUNet4_4layer', map_location=torch.device('cuda:0'))\n",
    "\n",
    "mre_arr_dptest = []\n",
    "r2_arr_dptest = []\n",
    "\n",
    "t1 = default_timer()\n",
    "with torch.no_grad():\n",
    "    for x, y in eval_loader:\n",
    "        x, y = x.to(device), y.to(device)\n",
    "        pred = model2(x).view(-1,96,200,24)\n",
    "        \n",
    "        x_plot = x.cpu().detach().numpy()\n",
    "        y_plot = y.cpu().detach().numpy() * dP_std + dP_mean\n",
    "        pred_plot = pred.cpu().detach().numpy() * dP_std + dP_mean\n",
    "        \n",
    "        mre_arr_dptest.append(MRE(y_plot, pred_plot))\n",
    "        r2_arr_dptest.append(R2(y_plot, pred_plot))\n",
    "t2 = default_timer()\n",
    "print(round(t2 - t1), \"seconds to predict 600 sample test data set for dP model\")\n",
    "\n",
    "print(\"Mean MRE: \", np.mean(mre_arr_dptest))\n",
    "print(\"Std MRE: \", np.std(mre_arr_dptest))\n",
    "print(\"Mean R^2: \", np.mean(r2_arr_dptest))\n",
    "print(\"Std R^2: \", np.std(r2_arr_dptest))"
   ]
  },
  {
   "cell_type": "code",
   "execution_count": 9,
   "id": "7774caf7",
   "metadata": {},
   "outputs": [
    {
     "data": {
      "text/plain": [
       "array([276, 556, 428, 183, 576, 209, 514, 582, 138, 457, 279, 420, 365,\n",
       "        88, 250, 128, 114, 528, 531, 421, 405, 301,  60, 477, 236, 122,\n",
       "        23, 529, 320, 462, 483, 252, 463, 493, 526, 168, 234, 325, 581,\n",
       "       157, 116, 215, 222, 455, 585, 509, 563, 117, 149,  50])"
      ]
     },
     "execution_count": 9,
     "metadata": {},
     "output_type": "execute_result"
    }
   ],
   "source": [
    "# Get index of the n data samples with smallest MRE values\n",
    "n=50\n",
    "metric = mre_arr_dptest\n",
    "idx = np.argpartition(metric, n)\n",
    "idx = idx[:n]\n",
    "sortidx = np.argsort(np.array(metric)[idx])\n",
    "idx = idx[sortidx]\n",
    "idx"
   ]
  },
  {
   "cell_type": "code",
   "execution_count": 26,
   "id": "0d15a8fd",
   "metadata": {},
   "outputs": [],
   "source": [
    "def pcolor(x, X, Y, thickness):\n",
    "    plt.jet()\n",
    "    return plt.pcolor(X[:thickness, :200], Y[:thickness, :200], np.flipud(x), shading='auto')\n",
    " \n",
    "def rel_err(yhat, y):\n",
    "    abs_err = np.abs(y - yhat)\n",
    "    rel_err = np.zeros(abs_err.shape)\n",
    "    rel_err = abs_err/(torch.max(y))\n",
    "    return rel_err\n",
    "\n",
    "def plotdP(n_lst):\n",
    "    dx = np.cumsum(3.5938*np.power(1.035012, range(200))) + 0.1\n",
    "    X, Y = np.meshgrid(dx, np.linspace(0,200,num = 96))\n",
    "    \n",
    "    times = np.cumsum(np.power(1.421245, range(24)))\n",
    "    time_print = []\n",
    "    for t in range(times.shape[0]):\n",
    "        if times[t]<365:\n",
    "            title = str(int(times[t]))+' d'\n",
    "            time_print = np.append(time_print,title)\n",
    "        else:\n",
    "            title = f'{round(int(times[t])/365, 1)} y'\n",
    "            time_print = np.append(time_print,title)\n",
    "\n",
    "    # load data for reservoir n\n",
    "    eval_loader = torch.utils.data.DataLoader(torch.utils.data.TensorDataset(test_a_dP[n_lst,...], test_u_dP[n_lst,...]), batch_size=1, shuffle=False)\n",
    "    counter = 0\n",
    "\n",
    "    fig = plt.figure(figsize=(15,5))\n",
    "\n",
    "    with torch.no_grad():\n",
    "        for x, y in eval_loader:\n",
    "            x, y = x.to(device), y.to(device)\n",
    "            pred = model2(x).view(-1,96,200,24)\n",
    "\n",
    "            y_plot = y.cpu().detach().numpy()\n",
    "            x_plot = x.cpu().detach().numpy()\n",
    "            pred_plot = pred.cpu().detach().numpy()\n",
    "\n",
    "            mask = x_plot[0,:,:,0,0] != 0\n",
    "            fullmask = x_plot[0, :, :, :, 0] != 0\n",
    "            thickness = sum(mask[:,0])\n",
    "\n",
    "            # un-normalization\n",
    "            if normMethod == 'minmax':\n",
    "                y_plot = y_plot*(dP_max - dP_min) + dP_min\n",
    "                pred_plot = pred_plot*(dP_max - dP_min) + dP_min\n",
    "            elif normMethod == 'zscore':\n",
    "                y_plot = y_plot*dP_std + dP_mean\n",
    "                pred_plot = pred_plot*dP_std + dP_mean\n",
    "\n",
    "    #         r2 = rsquared(pred_plot[0,:,:,-1][mask].reshape((thickness, -1)), y_plot[0,:,:,-1][mask].reshape((thickness, -1)))\n",
    "    #         mpe = MPE(pred_plot[0,:,:,-1][mask].reshape((thickness, -1)), y_plot[0,:,:,-1][mask].reshape((thickness, -1)))\n",
    "    #         mre = MRE(pred_plot[0,:,:,-1][mask].reshape((thickness, -1)), y_plot[0,:,:,-1][mask].reshape((thickness, -1)))\n",
    "\n",
    "            r2 = R2(y_plot, pred_plot)\n",
    "            mre = MRE(y_plot, pred_plot)\n",
    "\n",
    "#             print('R-squared: ', r2)\n",
    "#             print('MRE: ', mre)\n",
    "\n",
    "            if counter == 0:\n",
    "                xmax = 3000\n",
    "            else:\n",
    "                xmax = 4000\n",
    "\n",
    "            plt.subplot(4,3,counter+1)\n",
    "            pcolor(np.log(np.exp(x_plot[0,:,:,0,0][mask].reshape((thickness, -1))*15)), X, Y, thickness)\n",
    "            plt.title('ln($k$) (log mD)')\n",
    "            plt.colorbar(fraction=0.02)\n",
    "    #         plt.clim([0, 100])\n",
    "            plt.xlim([0,xmax])\n",
    "            plt.xticks([], [])\n",
    "\n",
    "            plt.subplot(4,3,counter+4)\n",
    "            #(data_dP_shale - dP_mean)/(dP_std)\n",
    "            pcolor((y_plot[0,:,:,-1][mask].reshape((thickness, -1)))*dP_std + dP_mean, X, Y, thickness)\n",
    "            plt.title('$dP$ (bar), $t = 30y$')\n",
    "            plt.colorbar(fraction=0.02)\n",
    "    #         plt.clim([0,1])\n",
    "            plt.xlim([0,xmax])\n",
    "            plt.xticks([], [])\n",
    "\n",
    "            plt.subplot(4,3,counter+7)\n",
    "            pcolor((pred_plot[0,:,:,-1][mask].reshape((thickness, -1)))*dP_std + dP_mean, X, Y, thickness)\n",
    "            plt.title('$\\hat{dP}$ (bar), $t = 30y$')\n",
    "            plt.colorbar(fraction=0.02)\n",
    "    #         plt.clim([0,1])\n",
    "            plt.xlim([0,xmax])\n",
    "            plt.xticks([], [])\n",
    "\n",
    "            plt.subplot(4,3,counter+10)\n",
    "            pred = ((pred_plot[0,:,:,-1][mask].reshape((thickness, -1)))*dP_std + dP_mean)\n",
    "            true = ((y_plot[0,:,:,-1][mask].reshape((thickness, -1)))*dP_std + dP_mean)\n",
    "            pcolor((true - pred)/np.max(true), X, Y, thickness)\n",
    "            plt.colorbar(fraction=0.02)\n",
    "            plt.title('MRE: ' + f'{np.round(mre, 4) :.4f}' + ', R$^2$: ' + f'{np.round(r2, 4) :.4f}' + ' (-)')\n",
    "            plt.clim([-0.2,0.2])\n",
    "            plt.xlim([0,xmax])\n",
    "    #         if counter==0:\n",
    "    #             plt.clim([0, 150])\n",
    "    #         elif counter==1:\n",
    "    #             plt.clim([0, 800])\n",
    "    #         elif counter==2:\n",
    "    #             plt.clim([0, 100])\n",
    "\n",
    "            counter += 1\n",
    "\n",
    "    plt.tight_layout()\n",
    "    plt.show()\n",
    "    # fig.savefig(f'_paper_dPresults_v4_2.png', dpi=300)\n",
    "    \n",
    "    return fig"
   ]
  },
  {
   "cell_type": "code",
   "execution_count": 28,
   "id": "f72cb83f",
   "metadata": {},
   "outputs": [
    {
     "data": {
      "image/png": "[encoded data removed]",
      "text/plain": [
       "<Figure size 1080x360 with 24 Axes>"
      ]
     },
     "metadata": {
      "needs_background": "light"
     },
     "output_type": "display_data"
    }
   ],
   "source": [
    "from FNORUNet_4layer_model import *\n",
    "model2 = torch.load('/scratch/users/andchu/FNOUNet/saved_models/dP3d_FNORUNet_249ep_32width_12m1_12m2_12m3_3000train_250eps_l1err_0.0005lr_1zerr_zscorenorm_andrew_FNORUNet4_4layer', map_location=torch.device('cuda:0'))\n",
    "\n",
    "\n",
    "# n_lst = [255, 223, 387] # the indexes of the cases plotted for the SG figure\n",
    "n_lst = [35, 102, 3]\n",
    "# 35, 102, 238\n",
    "fig = plotdP(n_lst)\n",
    "fig.savefig(f'_paper_dPresults_v5.png', dpi=300)"
   ]
  }
 ],
 "metadata": {
  "kernelspec": {
   "display_name": "Python 3 (ipykernel)",
   "language": "python",
   "name": "python3"
  },
  "language_info": {
   "codemirror_mode": {
    "name": "ipython",
    "version": 3
   },
   "file_extension": ".py",
   "mimetype": "text/x-python",
   "name": "python",
   "nbconvert_exporter": "python",
   "pygments_lexer": "ipython3",
   "version": "3.9.0"
  }
 },
 "nbformat": 4,
 "nbformat_minor": 5
}
